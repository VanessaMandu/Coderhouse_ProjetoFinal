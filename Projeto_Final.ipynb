{
 "cells": [
  {
   "cell_type": "code",
   "execution_count": 135,
   "metadata": {},
   "outputs": [],
   "source": [
    "import pandas as pd\n",
    "import requests\n",
    "from plyer import notification\n",
    "import sqlite3"
   ]
  },
  {
   "cell_type": "code",
   "execution_count": 136,
   "metadata": {},
   "outputs": [],
   "source": [
    "# URL base da API\n",
    "base_url = \"https://brasilapi.com.br/api/\""
   ]
  },
  {
   "cell_type": "code",
   "execution_count": 137,
   "metadata": {},
   "outputs": [],
   "source": [
    "# Função para exibir um alerta de erro usando Plyer\n",
    "def alerta(mensagem):\n",
    "    notification.notify(\n",
    "        title= \"Erro na API BrasilAPI\",\n",
    "        message= mensagem,\n",
    "        app_name= \"Projeto Final\",\n",
    "    )"
   ]
  },
  {
   "cell_type": "code",
   "execution_count": 138,
   "metadata": {},
   "outputs": [],
   "source": [
    "# Função para buscar dados da API\n",
    "def buscar_dados(endpoint):\n",
    "    url = f\"{base_url}{endpoint}\"\n",
    "    response = requests.get(url)\n",
    "    \n",
    "    if response.status_code == 200:\n",
    "        return response.json()\n",
    "    else:\n",
    "        mensagem = f\"Erro ao buscar dados da API. Código de status: {response.status_code}\"\n",
    "        alerta(mensagem)  # Chama a função de alerta\n",
    "        return None"
   ]
  },
  {
   "cell_type": "code",
   "execution_count": 139,
   "metadata": {},
   "outputs": [],
   "source": [
    "#Criado a conexão ao banco de dados.\n",
    "conn = sqlite3.connect('ProjetoFinalDB.db')\n",
    "cursor = conn.cursor()"
   ]
  },
  {
   "cell_type": "code",
   "execution_count": 140,
   "metadata": {},
   "outputs": [
    {
     "data": {
      "text/plain": [
       "<sqlite3.Cursor at 0x21e9a0ebdc0>"
      ]
     },
     "execution_count": 140,
     "metadata": {},
     "output_type": "execute_result"
    }
   ],
   "source": [
    "# Tabela 1: Lista de Taxas do Brasil\n",
    "cursor.execute('''CREATE TABLE IF NOT EXISTS Taxas (\n",
    "                    Nome TEXT,\n",
    "                    Valor NUMERIC\n",
    "                )''')\n",
    "\n",
    "# Tabela 2: Lista de Pix do Brasil\n",
    "cursor.execute('''CREATE TABLE IF NOT EXISTS Pixs (\n",
    "                    ISPB NUMERIC,\n",
    "                    Nome TEXT,\n",
    "                    NomeReduzido TEXT,\n",
    "                    Modalidade TEXT,\n",
    "                    Tipo TEXT\n",
    "                )''')\n",
    "\n",
    "# Tabela 2: Lista dos CPTECs\n",
    "cursor.execute('''CREATE TABLE IF NOT EXISTS CPTECS (\n",
    "                    Nome TEXT,\n",
    "                    Estado TEXT,\n",
    "                    Id NUMERIC\n",
    "                )''')\n",
    "\n"
   ]
  },
  {
   "cell_type": "code",
   "execution_count": 141,
   "metadata": {},
   "outputs": [
    {
     "name": "stdout",
     "output_type": "stream",
     "text": [
      "    Nome  Valor\n",
      "0  Selic  12.75\n",
      "1    CDI  12.65\n",
      "2   IPCA   4.61\n"
     ]
    }
   ],
   "source": [
    "# Tabela 1: Lista de Taxas do Brasil\n",
    "taxas = buscar_dados(\"taxas/v1\")\n",
    "if taxas:\n",
    "    \n",
    "    # Criar um DataFrame com os atributos\n",
    "    nome = [taxa['nome'] for taxa in taxas]\n",
    "    valor = [taxa['valor'] for taxa in taxas]\n",
    "\n",
    "    df_taxas = pd.DataFrame({\n",
    "        \"Nome\": nome,\n",
    "        \"Valor\": valor,\n",
    "    })\n",
    "    \n",
    "    df_taxas['Valor'] = df_taxas['Valor'].astype(float) #Conversão de tipo de coluna\n",
    "    df_taxas['Nome'] = df_taxas['Nome'].astype(str)\n",
    "    df_taxas.fillna(0, inplace=True) #Tratamento de valores ausentes\n",
    "    \n",
    "    print(df_taxas.head(5))  # Exibe as 5 primeiras linhas do DataFrame"
   ]
  },
  {
   "cell_type": "code",
   "execution_count": 142,
   "metadata": {},
   "outputs": [
    {
     "name": "stdout",
     "output_type": "stream",
     "text": [
      "     ISPB                                               Nome  \\\n",
      "2   68987  COOPERATIVA DE CRÉDITO ARACREDI LTDA. - SICOOB...   \n",
      "3   75847  COOPERATIVA DE CRÉDITO UNICRED CENTRO-SUL LTDA...   \n",
      "4  106180  CENTRAL DAS COOPERATIVAS DE CRÉDITO DOS ESTADO...   \n",
      "6  259231  SICOOB UNIMAIS METROPOLITANA - COOPERATIVA DE ...   \n",
      "7  309024  CENTRAL DAS COOPERATIVAS DE ECONOMIA E CREDITO...   \n",
      "\n",
      "                                      NomeReduzido Modalidade  Tipo  \n",
      "2                                CC ARACREDI LTDA.       PDCT  IDRT  \n",
      "3  CC UNICRED CENTRO-SUL LTDA - UNICRED CENTRO-SUL       PDCT  IDRT  \n",
      "4         CCC DOS EST DE MT, MS E MUN DE CACOAL/RO       PDCT  IDRT  \n",
      "6                CCLA SICOOB UNIMAIS METROPOLITANA       PDCT  IDRT  \n",
      "7                         CCC ESTADO MG - CECREMGE       PDCT  IDRT  \n"
     ]
    }
   ],
   "source": [
    "# Tabela 2: Lista de PIX do Brasil\n",
    "pixs = buscar_dados(\"pix/v1/participants\")\n",
    "if pixs:\n",
    "\n",
    "    # Criar um DataFrame com os atributos\n",
    "    ispb = [pix['ispb'] for pix in pixs]\n",
    "    nome = [pix['nome'] for pix in pixs]\n",
    "    nome_reduzido = [pix['nome_reduzido'] for pix in pixs]\n",
    "    modalidade_participacao = [pix['modalidade_participacao'] for pix in pixs]\n",
    "    tipo_participacao = [pix['tipo_participacao'] for pix in pixs]\n",
    "\n",
    "    df_pixs = pd.DataFrame({\n",
    "        \"ISPB\": ispb,\n",
    "        \"Nome\": nome,\n",
    "        \"NomeReduzido\": nome_reduzido,\n",
    "        \"Modalidade\": modalidade_participacao,\n",
    "        \"Tipo\": tipo_participacao\n",
    "    })\n",
    "    \n",
    "    df_pixs['ISPB'] = df_pixs['ISPB'].astype(int) #Conversão de tipo de coluna\n",
    "    df_pixs['Nome'] = df_pixs['Nome'].astype(str) \n",
    "    df_pixs['NomeReduzido'] = df_pixs['NomeReduzido'].astype(str) \n",
    "    df_pixs['Modalidade'] = df_pixs['Modalidade'].astype(str)\n",
    "    df_pixs['Tipo'] = df_pixs['Tipo'].astype(str)\n",
    "    df_pixs.fillna(0, inplace=True) #Tratamento de valores ausentes\n",
    "    df_pixs = df_pixs[df_pixs['Tipo'] == 'IDRT'] # Aplicar o filtro para selecionar apenas 'IDRT'\n",
    "\n",
    "    print(df_pixs.head(5)) # Exibe as 5 primeiras linhas do DataFrame"
   ]
  },
  {
   "cell_type": "code",
   "execution_count": 143,
   "metadata": {},
   "outputs": [
    {
     "name": "stdout",
     "output_type": "stream",
     "text": [
      "                        Nome Estado    Id\n",
      "0               São Benedito     CE  4750\n",
      "1  São Benedito do Rio Preto     MA  4751\n",
      "2        São Benedito do Sul     PE  4752\n",
      "3                  São Bento     MA  4753\n",
      "4                  São Bento     PB  4754\n"
     ]
    }
   ],
   "source": [
    "# Tabela 3: Lista CPTECs\n",
    "cptecs = buscar_dados(\"cptec/v1/cidade\")\n",
    "if cptecs:\n",
    "\n",
    "    nome = [cptec['nome'] for cptec in cptecs]\n",
    "    estado = [cptec['estado'] for cptec in cptecs]\n",
    "    id = [cptec['id'] for cptec in cptecs]\n",
    "\n",
    "    df_cptec = pd.DataFrame({\n",
    "        'Nome': nome,\n",
    "        'Estado': estado,\n",
    "        'Id': id,\n",
    "    })\n",
    "    \n",
    "    df_cptec['Nome'] = df_cptec['Nome'].astype(str) #Conversão de tipo de coluna\n",
    "    df_cptec['Estado'] = df_cptec['Estado'].astype(str)\n",
    "    df_cptec['Id'] = df_cptec['Id'].astype(int) \n",
    "    df_cptec.fillna(0, inplace=True) #Tratamento de valores ausentes\n",
    "    estados_nordeste = ['AL', 'BH', 'CE', 'MA', 'PB', 'PE', 'PI', 'NA', 'SG'] # Lista de estados do Nordeste\n",
    "    df_cptec_nordeste = df_cptec[df_cptec['Estado'].isin(estados_nordeste)]# Aplicar o filtro para pegar apenas os estados do Nordeste\n",
    "\n",
    "    print(df_cptec_nordeste.head(5))"
   ]
  },
  {
   "cell_type": "code",
   "execution_count": 144,
   "metadata": {},
   "outputs": [],
   "source": [
    "#DataFrames salvos nas tabelas do banco de dados\n",
    "if 'df_taxas' in locals():\n",
    "    df_taxas.to_sql('Taxas', conn, if_exists='replace', index=False)\n",
    "\n",
    "if 'df_pixs_stacked' in locals():\n",
    "    df_pixs.to_sql('Pixs', conn, if_exists='replace', index=False)\n",
    "\n",
    "if 'df_pixs_stacked' in locals():\n",
    "    df_cptec_nordeste.to_sql('CPTECS', conn, if_exists='replace', index=False)\n",
    "\n",
    "conn.commit()\n",
    "conn.close()"
   ]
  }
 ],
 "metadata": {
  "kernelspec": {
   "display_name": ".venv",
   "language": "python",
   "name": "python3"
  },
  "language_info": {
   "codemirror_mode": {
    "name": "ipython",
    "version": 3
   },
   "file_extension": ".py",
   "mimetype": "text/x-python",
   "name": "python",
   "nbconvert_exporter": "python",
   "pygments_lexer": "ipython3",
   "version": "3.11.4"
  },
  "orig_nbformat": 4
 },
 "nbformat": 4,
 "nbformat_minor": 2
}
